{
 "cells": [
  {
   "cell_type": "markdown",
   "metadata": {},
   "source": [
    "# Introduction"
   ]
  },
  {
   "cell_type": "markdown",
   "metadata": {},
   "source": [
    "## What is Python?\n",
    "\n",
    "https://www.python.org/doc/essays/blurb/\n",
    "\n",
    "https://docs.python.org/3/faq/general.html"
   ]
  },
  {
   "cell_type": "markdown",
   "metadata": {},
   "source": [
    "## Python 2 or Python 3\n",
    "\n",
    "\n",
    "- The two versions are similar, with knowledge of one switching to writing code for the other is easy.\n",
    "\n",
    "- https://wiki.python.org/moin/Python2orPython3\n",
    "\n",
    "    - The 2.x branch will see no new major releases after that. 3.x is under active development [...] This means that all recent standard library improvements, for example, are only available by default in Python 3.x.\n",
    "    - Python ecosystem has amassed a significant amount of quality software over the years. The downside of breaking backwards compatibility in 3.x is that some of that software (especially in-house software in companies) still doesn't work on 3.x yet."
   ]
  },
  {
   "cell_type": "markdown",
   "metadata": {
    "collapsed": true
   },
   "source": [
    "## Installation\n",
    "\n",
    "Windows doesn't come with Python, the installer and instructions can be found https://docs.python.org/3/using/windows.html\n",
    "\n",
    "Most \\*nix based operating systems come with Python installed (usually Python 2). Replacing the system Python is not recommended and may cause problems. However, different versions of Python can be safely installed along side the system Python.\n",
    "\n",
    "https://docs.python.org/3/using/index.html\n",
    "\n",
    "-- Add instructions? ---  \n",
    "-- Mention Cloud9 IDE? --"
   ]
  },
  {
   "cell_type": "markdown",
   "metadata": {},
   "source": [
    "## Python Interpreter \n",
    "\n",
    "The Python interpreter is what is used to run Python scripts. \n",
    "\n",
    "If it is available and in Unix shell’s search path makes it possible to start it by typing the command `python` followed by the script name will invoke the interpreter and run the script. \n",
    "\n",
    "`hello_campers.py`\n",
    "```python\n",
    "if __name__ == '__main__':\n",
    "    print('Hello campers!')\n",
    "```\n",
    "From terminal:\n",
    "```\n",
    "$ python hello_campers.py\n",
    "Hello campers!\n",
    "```\n",
    "\n",
    "When multiple versions of Python are installed, calling them by version is possible depending on the install configuration. In the Cloud9 ide custom environment, they can be invoked like:\n",
    "\n",
    "```\n",
    "$ python --version\n",
    "Python 2.7.6\n",
    "$ python3 --version\n",
    "Python 3.4.3\n",
    "$ python3.5 --version\n",
    "Python 3.5.1\n",
    "```"
   ]
  },
  {
   "cell_type": "markdown",
   "metadata": {},
   "source": [
    "## Python Interpreter Interactive Mode\n",
    "\n",
    "Interactive mode can be started by invoking the Python interpreter with the `-i` flag or without any arguments.\n",
    "\n",
    "Interactive mode has a prompt where Python commands can be entered and run:\n",
    "\n",
    "```\n",
    "$ python3.5\n",
    "Python 3.5.1 (default, Dec 18 2015, 00:00:00) \n",
    "[GCC 4.8.4] on linux\n",
    "Type \"help\", \"copyright\", \"credits\" or \"license\" for more information.\n",
    ">>> print(\"Hello campers!\")\n",
    "Hello campers!\n",
    ">>> 1 + 2\n",
    "3\n",
    ">>> 3 * 4\n",
    "12\n",
    ">>> exit()\n",
    "$ \n",
    "```"
   ]
  },
  {
   "cell_type": "markdown",
   "metadata": {},
   "source": [
    "## The Zen of Python\n",
    "\n",
    "Some of the principles that influenced the design of Python are included as an easter egg and can be read by using the command:"
   ]
  },
  {
   "cell_type": "code",
   "execution_count": 1,
   "metadata": {
    "collapsed": false
   },
   "outputs": [
    {
     "name": "stdout",
     "output_type": "stream",
     "text": [
      "The Zen of Python, by Tim Peters\n",
      "\n",
      "Beautiful is better than ugly.\n",
      "Explicit is better than implicit.\n",
      "Simple is better than complex.\n",
      "Complex is better than complicated.\n",
      "Flat is better than nested.\n",
      "Sparse is better than dense.\n",
      "Readability counts.\n",
      "Special cases aren't special enough to break the rules.\n",
      "Although practicality beats purity.\n",
      "Errors should never pass silently.\n",
      "Unless explicitly silenced.\n",
      "In the face of ambiguity, refuse the temptation to guess.\n",
      "There should be one-- and preferably only one --obvious way to do it.\n",
      "Although that way may not be obvious at first unless you're Dutch.\n",
      "Now is better than never.\n",
      "Although never is often better than *right* now.\n",
      "If the implementation is hard to explain, it's a bad idea.\n",
      "If the implementation is easy to explain, it may be a good idea.\n",
      "Namespaces are one honking great idea -- let's do more of those!\n"
     ]
    }
   ],
   "source": [
    "import this"
   ]
  },
  {
   "cell_type": "markdown",
   "metadata": {
    "collapsed": true
   },
   "source": [
    "## Documentation\n",
    "\n",
    "Python is well documented at https://docs.python.org/3/. The docs include tutorials, guides, references and meta information for language.\n",
    "\n",
    "Another important reference is the Python Enhancement Proposals (PEPs) https://www.python.org/dev/peps/. Included in the PEPs is a style guide for writing Python code, [`PEP 8`](https://www.python.org/dev/peps/pep-0008/).\n"
   ]
  },
  {
   "cell_type": "markdown",
   "metadata": {},
   "source": [
    "## Debugging\n",
    "\n",
    "Inline `print` statements can be used for simple debugging:\n",
    "\n",
    "> **... often the quickest way to debug a program is to add a few print statements to the source: the fast edit-test-debug cycle makes this simple approach very effective.**\n",
    "\n",
    "> [Executive Summary](https://www.python.org/doc/essays/blurb/)\n",
    "\n",
    "Python also includes more powerful tools for debugging, such as:\n",
    "\n",
    "* logging module, *logging*: https://docs.python.org/3/library/logging.html\n",
    "* debugging module, *pdb*: https://docs.python.org/3/library/pdb.html\n",
    "\n",
    "Just note that these exist for now."
   ]
  },
  {
   "cell_type": "markdown",
   "metadata": {},
   "source": [
    "## Hello World!\n",
    "\n",
    "Going back to the docs, we can read about the `print` function, a [*built-in function*](https://docs.python.org/3/library/functions.html) of the [Python Standard Library](https://docs.python.org/3/library/index.html).\n",
    "\n",
    "https://docs.python.org/3/library/functions.html#print\n",
    "\n",
    "```\n",
    "print(*objects, sep=' ', end='\\n', file=sys.stdout, flush=False)\n",
    "```\n",
    "\n",
    "The built-in functions are listed in alphabetical order. The name is followed by a parenthesized list of formal parameters with optional default values. Under that is a short description of the function and its parameters are given and occasionally an example.\n",
    "\n",
    "The [`print`](https://docs.python.org/3/library/functions.html#print) function in Python 3 replaces the [`print`](https://docs.python.org/2/reference/simple_stmts.html#print) statement in Python 2."
   ]
  },
  {
   "cell_type": "code",
   "execution_count": 2,
   "metadata": {
    "collapsed": false
   },
   "outputs": [
    {
     "name": "stdout",
     "output_type": "stream",
     "text": [
      "Hello world!\n"
     ]
    }
   ],
   "source": [
    "print(\"Hello world!\")"
   ]
  },
  {
   "cell_type": "markdown",
   "metadata": {},
   "source": [
    "A function is called when the name of the function is followed by `()`. For the `Hello world!` example, the `print` function is called with a string as an argument for the first parameter. For the rest of the parameters the defaults are used.\n",
    "\n",
    "The argument that we called the `print` function with is a `str` object or *string*, one of Python's [*built-in types*](https://docs.python.org/3/library/stdtypes.html#text-sequence-type-str).\n",
    "\n",
    "The `objects` parameter is prefixed with a `*` which indicates that the function will take an arbitrary number of arguments for that parameter."
   ]
  }
 ],
 "metadata": {
  "kernelspec": {
   "display_name": "Python 3",
   "language": "python",
   "name": "python3"
  },
  "language_info": {
   "codemirror_mode": {
    "name": "ipython",
    "version": 3
   },
   "file_extension": ".py",
   "mimetype": "text/x-python",
   "name": "python",
   "nbconvert_exporter": "python",
   "pygments_lexer": "ipython3",
   "version": "3.5.0"
  }
 },
 "nbformat": 4,
 "nbformat_minor": 0
}
