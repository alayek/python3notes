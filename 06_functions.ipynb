{
 "cells": [
  {
   "cell_type": "markdown",
   "metadata": {},
   "source": [
    "# Functions"
   ]
  },
  {
   "cell_type": "markdown",
   "metadata": {
    "collapsed": true
   },
   "source": [
    "Functions are a way to organize code into reusable blocks. As a reminder, functions in Python are \"first class objects.\" \n",
    "\n",
    "Several built-in functions have been discussed and used previous examples. Just as important is the ability for users to define their own functions.\n",
    "\n",
    "**Resources**\n",
    "\n",
    "https://docs.python.org/3/reference/compound_stmts.html#function-definitions"
   ]
  },
  {
   "cell_type": "markdown",
   "metadata": {
    "collapsed": true
   },
   "source": [
    "## Defining Functions\n",
    "\n",
    "https://docs.python.org/3/tutorial/controlflow.html#defining-functions\n",
    "\n",
    "> We can create a function that writes the Fibonacci series to an arbitrary boundary:\n",
    "\n",
    "```python\n",
    ">>> def fib(n):    # write Fibonacci series up to n\n",
    "...     \"\"\"Print a Fibonacci series up to n.\"\"\"\n",
    "...     a, b = 0, 1\n",
    "...     while a < n:\n",
    "...         print(a, end=' ')\n",
    "...         a, b = b, a+b\n",
    "...     print()\n",
    "...\n",
    ">>> # Now call the function we just defined:\n",
    "... fib(2000)\n",
    "0 1 1 2 3 5 8 13 21 34 55 89 144 233 377 610 987 1597\n",
    "```\n",
    "\n",
    "> The keyword `def` introduces a function definition. It must be followed by the function name and the parenthesized list of formal parameters. The statements that form the body of the function start at the next line, and must be indented.\n",
    "\n",
    "https://docs.python.org/3/reference/compound_stmts.html#def\n",
    "\n",
    "> The first statement of the function body can optionally be a string literal; this string literal is the function’s documentation string, or docstring. (More about docstrings can be found in the section Documentation Strings.) There are tools which use docstrings to automatically produce online or printed documentation, or to let the user interactively browse through code; it’s good practice to include docstrings in code that you write, so make a habit of it."
   ]
  },
  {
   "cell_type": "markdown",
   "metadata": {},
   "source": [
    "## Calling Functions\n",
    "\n",
    "A *function definition* statement does not execute the function. Executing (calling) a function is done by using the name of the function followed by parenthesis enclosing required arguments (if any).\n",
    "\n",
    "```python\n",
    ">>> def say_hello():\n",
    "...     print('Hello')\n",
    "...\n",
    ">>> say_hello()\n",
    "Hello\n",
    "```\n",
    "\n",
    "> The execution of a function introduces a new symbol table used for the local variables of the function. More precisely, all variable assignments in a function store the value in the local symbol table; whereas variable references first look in the local symbol table, then in the local symbol tables of enclosing functions, then in the global symbol table, and finally in the table of built-in names. Thus, global variables cannot be directly assigned a value within a function (unless named in a global statement), although they may be referenced.\n",
    "\n",
    "```python\n",
    ">>> a = 1\n",
    ">>> b = 10\n",
    ">>> def fn():\n",
    "...     print(a)    # local a is not assigned, no enclosing function, global a referenced.\n",
    "...     b = 20      # local b is assigned in the local symbol table for the function.\n",
    "...     print(b)    # local b is referenced.\n",
    "...\n",
    ">>> fn()\n",
    "1\n",
    "20\n",
    ">>> b               # global b is not changed by the function call.\n",
    "10\n",
    "```\n",
    "\n",
    "> The actual parameters (arguments) to a function call are introduced in the local symbol table of the called function when it is called; thus, arguments are passed using call by value (where the value is always an object reference, not the value of the object). [1] When a function calls another function, a new local symbol table is created for that call.\n",
    "\n",
    "```python\n",
    ">>> def greet(s):\n",
    "...     s = \"Hello \" + s    # s in local symbol table is reassigned.\n",
    "...     print(s)\n",
    "...\n",
    ">>> person = \"Bob\"\n",
    ">>> greet(person)\n",
    "Hello Bob\n",
    ">>> person                  # person used to call remains bound to original object, 'Bob'.\n",
    "'Bob'\n",
    "```\n",
    "\n",
    "The arguments used to call a function cannot be reassigned by the function, but arguments that reference mutable objects can have their values changed:\n",
    "\n",
    "```python\n",
    ">>> def fn(arg):\n",
    "...     arg.append(1)\n",
    "...\n",
    ">>> a = [1, 2, 3]\n",
    ">>> fn(a)\n",
    ">>> a\n",
    "[1, 2, 3, 1]\n",
    "```"
   ]
  },
  {
   "cell_type": "markdown",
   "metadata": {},
   "source": [
    "## `return` Statement\n",
    "\n",
    "https://docs.python.org/3/reference/simple_stmts.html#the-return-statement\n",
    "\n",
    "All functions return a value when called.\n",
    "\n",
    "If a `return` statement is followed by an *expression list*, that expression list is evaluated and the value is returned:\n",
    "```python\n",
    ">>> def greater_than_1(n):\n",
    "...     return n > 1\n",
    "...\n",
    ">>> print(greater_than_1(1))\n",
    "False\n",
    ">>> print(greater_than_1(2))\n",
    "True\n",
    "```\n",
    "\n",
    "If no *expression list* is specified, `None` is returned:\n",
    "```python\n",
    ">>> def no_expression_list():\n",
    "...     return    # No return expression list.\n",
    "...\n",
    ">>> print(no_expression_list())\n",
    "None\n",
    "```\n",
    "\n",
    "If a `return` statement is reached during the execution of a function, the current function call is left at that point:\n",
    "```python\n",
    ">>> def return_middle():\n",
    "...     a = 1\n",
    "...     return a\n",
    "...     a = 2     # This assignment is never reached.\n",
    "...\n",
    ">>> print(return_middle())\n",
    "1\n",
    "```\n",
    "\n",
    "If there is no `return` statement the function returns `None` when it reaches the end:\n",
    "```python\n",
    ">>> def no_return():\n",
    "...     pass     # No return statement.\n",
    "...\n",
    ">>> print(no_return())\n",
    "None\n",
    "```"
   ]
  },
  {
   "cell_type": "markdown",
   "metadata": {},
   "source": [
    "## Name binding and Aliasing Functions\n",
    "\n",
    "> A function definition introduces the function name in the current symbol table. The value of the function name has a type that is recognized by the interpreter as a user-defined function. \n",
    "\n",
    "```python\n",
    ">>> something = 1\n",
    ">>> type(something)\n",
    "<type 'int'>\n",
    ">>> def something():\n",
    "...     pass\n",
    "...\n",
    ">>> type(something)\n",
    "<type 'function'>\n",
    ">>> something = []\n",
    ">>> type(something)\n",
    "<type 'list'>\n",
    "```\n",
    "\n",
    "> This value can be assigned to another name which can then also be used as a function. This serves as a general renaming mechanism:\n",
    "\n",
    "```python\n",
    ">>> fib\n",
    "<function fib at 10042ed0>\n",
    ">>> f = fib\n",
    ">>> f(100)\n",
    "0 1 1 2 3 5 8 13 21 34 55 89\n",
    "```"
   ]
  },
  {
   "cell_type": "markdown",
   "metadata": {},
   "source": [
    "## Coding Style\n",
    "\n",
    "https://docs.python.org/3/tutorial/controlflow.html#intermezzo-coding-style"
   ]
  },
  {
   "cell_type": "markdown",
   "metadata": {},
   "source": [
    "## Default Argument Values\n",
    "\n",
    "https://docs.python.org/3/tutorial/controlflow.html#default-argument-values"
   ]
  },
  {
   "cell_type": "markdown",
   "metadata": {},
   "source": [
    "## Keyword Arguments\n",
    "\n",
    "https://docs.python.org/3/tutorial/controlflow.html#keyword-arguments"
   ]
  },
  {
   "cell_type": "markdown",
   "metadata": {},
   "source": [
    "## Arbitrary Arguments\n",
    "\n",
    "https://docs.python.org/3/tutorial/controlflow.html#unpacking-argument-lists"
   ]
  },
  {
   "cell_type": "markdown",
   "metadata": {},
   "source": [
    "## Nested functions\n",
    "\n",
    "```python\n",
    ">>> def outside_fn():\n",
    "...     def inside_fn():\n",
    "...         print('inside')\n",
    "...     print('outside')\n",
    "...     inside_fn()\n",
    "...\n",
    ">>> outside_fn()\n",
    "outside\n",
    "inside\n",
    ">>> inside_fn()\n",
    "Traceback (most recent call last):\n",
    "  File \"<stdin>\", line 1, in <module>\n",
    "NameError: name 'inside_fn' is not defined\n",
    "```"
   ]
  },
  {
   "cell_type": "markdown",
   "metadata": {},
   "source": [
    "## `global` and `nonlocal`\n",
    "\n",
    "**`global`**\n",
    "\n",
    "https://docs.python.org/3/reference/simple_stmts.html#the-global-statement\n",
    "\n",
    "**`nonlocal`**\n",
    "\n",
    "https://docs.python.org/3/reference/simple_stmts.html#the-nonlocal-statement\n",
    "\n",
    "https://www.python.org/dev/peps/pep-3104/"
   ]
  },
  {
   "cell_type": "markdown",
   "metadata": {},
   "source": [
    "## Lambda Expressions\n",
    "\n",
    "**Anonymous functions**\n",
    "\n",
    "https://docs.python.org/3/tutorial/controlflow.html#lambda-expressions\n",
    "\n",
    "https://docs.python.org/3/reference/expressions.html#lambda"
   ]
  },
  {
   "cell_type": "markdown",
   "metadata": {},
   "source": [
    "## Decorators\n",
    "\n",
    "https://www.python.org/dev/peps/pep-0318/\n",
    "\n",
    "https://docs.python.org/3/whatsnew/2.4.html?highlight=decorator"
   ]
  }
 ],
 "metadata": {
  "kernelspec": {
   "display_name": "Python 3",
   "language": "python",
   "name": "python3"
  },
  "language_info": {
   "codemirror_mode": {
    "name": "ipython",
    "version": 3
   },
   "file_extension": ".py",
   "mimetype": "text/x-python",
   "name": "python",
   "nbconvert_exporter": "python",
   "pygments_lexer": "ipython3",
   "version": "3.5.0"
  }
 },
 "nbformat": 4,
 "nbformat_minor": 0
}
