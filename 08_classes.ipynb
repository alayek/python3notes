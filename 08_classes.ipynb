{
 "cells": [
  {
   "cell_type": "markdown",
   "metadata": {},
   "source": [
    "# Classes\n",
    "\n",
    "> A template for creating user-defined objects. Class definitions normally contain method definitions which operate on instances of the class.\n",
    "\n",
    "> https://docs.python.org/3/glossary.html#term-class\n",
    "\n",
    "https://docs.python.org/3/tutorial/classes.html#classes"
   ]
  },
  {
   "cell_type": "markdown",
   "metadata": {},
   "source": [
    "## Purpose\n",
    "\n",
    "Classes allow users to define their own objects types. This is useful in organizing related statements, states, and functions into reusable constructs. \n",
    "\n",
    "Modules, which also allows for similar organization, create singletons when loaded by a program using import statements. If a module is imported by two other modules in a program, those two modules are both referencing the same module object. Changes to the internal state of the imported module will be reflected in both of the modules that imported it.\n",
    "\n",
    "User defined classes, like the built-in classes, allow each *instance* of the objects derived from the class to have its own state."
   ]
  },
  {
   "cell_type": "markdown",
   "metadata": {
    "collapsed": true
   },
   "source": [
    "## Defining Classes"
   ]
  },
  {
   "cell_type": "markdown",
   "metadata": {},
   "source": [
    "## Class Functions (Methods)"
   ]
  },
  {
   "cell_type": "markdown",
   "metadata": {},
   "source": [
    "## Class and Instance Variables\n",
    "\n",
    "https://docs.python.org/3/tutorial/classes.html#class-and-instance-variables"
   ]
  },
  {
   "cell_type": "markdown",
   "metadata": {},
   "source": [
    "## Inheritance"
   ]
  },
  {
   "cell_type": "markdown",
   "metadata": {},
   "source": [
    "## Overriding Methods"
   ]
  },
  {
   "cell_type": "markdown",
   "metadata": {},
   "source": [
    "## `__iter__`"
   ]
  },
  {
   "cell_type": "markdown",
   "metadata": {},
   "source": [
    "## `__eq__` and `__hash__`"
   ]
  },
  {
   "cell_type": "markdown",
   "metadata": {},
   "source": [
    "## `__repr__` and  `__str__`"
   ]
  }
 ],
 "metadata": {
  "kernelspec": {
   "display_name": "Python 3",
   "language": "python",
   "name": "python3"
  },
  "language_info": {
   "codemirror_mode": {
    "name": "ipython",
    "version": 3
   },
   "file_extension": ".py",
   "mimetype": "text/x-python",
   "name": "python",
   "nbconvert_exporter": "python",
   "pygments_lexer": "ipython3",
   "version": "3.5.0"
  }
 },
 "nbformat": 4,
 "nbformat_minor": 0
}
